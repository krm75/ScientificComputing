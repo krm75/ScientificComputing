{
 "cells": [
  {
   "cell_type": "markdown",
   "metadata": {},
   "source": [
    "## Using NumPy with ArcGIS: *FeatureClass to NumPy Arrays*\n",
    "\n",
    "This notebook demonstrates how NumPy facilitates manipulation of feature class attribute data. By no means is this an in-depth introduction, let alone discussion, of NumPy, but it does at least familiarize you with what NumPy is about and how it can be used with ArcGIS feature classes. The links below provide more in-depth reading on NumPy and how it's used with feature classes.\n",
    "\n",
    "Resources:\n",
    "* https://jakevdp.github.io/PythonDataScienceHandbook/index.html#2.-Introduction-to-NumPy\n",
    "* http://pro.arcgis.com/en/pro-app/arcpy/data-access/featureclasstonumpyarray.htm"
   ]
  },
  {
   "cell_type": "code",
   "execution_count": 1,
   "metadata": {},
   "outputs": [],
   "source": [
    "#Import arcpy and numpy\n",
    "import arcpy\n",
    "import numpy as np"
   ]
  },
  {
   "cell_type": "code",
   "execution_count": 2,
   "metadata": {},
   "outputs": [
    {
     "name": "stdout",
     "output_type": "stream",
     "text": [
      "True\n"
     ]
    }
   ],
   "source": [
    "#Point to the HUC12.shp feature class in the Data folder (ensure it exists)\n",
    "huc12_fc = '../Data/HUC12.shp'\n",
    "print (arcpy.Exists(huc12_fc))"
   ]
  },
  {
   "cell_type": "markdown",
   "metadata": {},
   "source": [
    "* Here,we convert the feature class to a NumPy array using ArcPy's [`FeatureClassToNumPyArray`](http://pro.arcgis.com/en/pro-app/arcpy/data-access/featureclasstonumpyarray.htm) function. "
   ]
  },
  {
   "cell_type": "code",
   "execution_count": 4,
   "metadata": {},
   "outputs": [
    {
     "data": {
      "text/plain": [
       "array([([-79.93890576,  35.48508838], '03040103', '030401030503', 15414.        ),\n",
       "       ([-80.10361823,  35.47440895], '03040103', '030401030605', 42390.        ),\n",
       "       ([-80.39449973,  35.87133309], '03040101', '030401011503', 32998.        ),\n",
       "       ([-80.50179609,  35.89937972], '03040101', '030401011404', 29297.        ),\n",
       "       ([-80.35986875,  34.82920682], '03040104', '030401040101', 14822.        ),\n",
       "       ([-80.37248998,  34.90548022], '03040105', '030401050602', 21083.        ),\n",
       "       ([-80.38505017,  34.95127815], '03040105', '030401050603', 11745.        ),\n",
       "       ([-80.26716994,  34.91474438], '03040104', '030401040102', 26054.        ),\n",
       "       ([-80.59572252,  36.61076226], '03040101', '030401010802', 10907.619446  ),\n",
       "       ([-80.74349003,  36.55573167], '03040101', '030401010804', 10389.0986449 ),\n",
       "       ([-80.76993095,  36.4982624 ], '03040101', '030401010703',  1165.65651233),\n",
       "       ([-80.87183301,  36.51863643], '03040101', '030401010701',   886.50610243),\n",
       "       ([-80.49255072,  35.2641331 ], '03040105', '030401050307', 33634.        ),\n",
       "       ([-79.79444406,  35.15382153], '03040104', '030401040505', 32563.        ),\n",
       "       ([-79.92153292,  35.22582556], '03040104', '030401040402', 27580.        ),\n",
       "       ([-79.82883498,  35.2198002 ], '03040104', '030401040401', 20719.        ),\n",
       "       ([-80.51826264,  35.3329713 ], '03040105', '030401050305', 12768.        ),\n",
       "       ([-80.32688017,  35.28335337], '03040105', '030401050405', 25867.        ),\n",
       "       ([-80.27455694,  35.32174187], '03040105', '030401050403',  8008.        ),\n",
       "       ([-80.01000739,  35.26460171], '03040104', '030401040204', 21240.        ),\n",
       "       ([-80.05388612,  35.34411978], '03040104', '030401040202', 11358.        ),\n",
       "       ([-80.45452719,  35.38393847], '03040105', '030401050304', 23836.        ),\n",
       "       ([-79.83297418,  35.30963616], '03040104', '030401040306', 31951.        ),\n",
       "       ([-79.94046351,  35.3289051 ], '03040104', '030401040305', 18792.        ),\n",
       "       ([-80.64921551,  35.39385445], '03040105', '030401050105', 20165.        ),\n",
       "       ([-80.20514519,  35.38792414], '03040105', '030401050401', 18520.        ),\n",
       "       ([-80.13664017,  35.38249356], '03040104', '030401040201', 20796.        ),\n",
       "       ([-80.53117398,  35.44624125], '03040105', '030401050201',  8818.        ),\n",
       "       ([-80.35278506,  35.39430603], '03040105', '030401050404', 35647.        ),\n",
       "       ([-80.27435375,  35.41796636], '03040105', '030401050402', 21391.        ),\n",
       "       ([-80.01052383,  35.41347696], '03040103', '030401030505', 20265.        ),\n",
       "       ([-80.62335157,  35.45723831], '03040105', '030401050203', 29616.        ),\n",
       "       ([-79.90505156,  35.40674189], '03040104', '030401040303', 22263.        ),\n",
       "       ([-80.45085658,  35.48519312], '03040105', '030401050303', 39307.        ),\n",
       "       ([-80.93036681,  36.27528608], '03040101', '030401010603',  8217.        ),\n",
       "       ([-81.33360417,  36.29368491], '03040101', '030401010303', 19168.        ),\n",
       "       ([-81.28217106,  36.31861678], '03040101', '030401010304', 18277.        ),\n",
       "       ([-81.17805159,  36.27332434], '03040101', '030401010306', 31521.        ),\n",
       "       ([-81.15872378,  36.32977517], '03040101', '030401010403', 14750.        ),\n",
       "       ([-80.34363183,  36.21311614], '03040101', '030401011302', 22398.        ),\n",
       "       ([-80.67182849,  36.26780468], '03040101', '030401011001', 27157.        ),\n",
       "       ([-80.59124827,  36.29111861], '03040101', '030401011002', 14810.        ),\n",
       "       ([-80.39803483,  36.28798207], '03040101', '030401011005', 18870.        ),\n",
       "       ([-80.4986787 ,  36.27715651], '03040101', '030401011006', 24683.        ),\n",
       "       ([-80.52434662,  36.33728635], '03040101', '030401010904', 17454.        ),\n",
       "       ([-80.35596013,  36.35194188], '03040101', '030401011004',  9358.        ),\n",
       "       ([-81.51118198,  36.15055907], '03040101', '030401010104', 32340.        ),\n",
       "       ([-81.43920092,  36.16183941], '03040101', '030401010202', 24223.        ),\n",
       "       ([-80.58523938,  35.10099009], '03040105', '030401050702', 32153.        ),\n",
       "       ([-80.58954693,  35.2083029 ], '03040105', '030401050306', 15766.        ),\n",
       "       ([-80.45833239,  34.85759802], '03040105', '030401050601', 21601.        ),\n",
       "       ([-80.46464712,  34.95992853], '03040105', '030401050502',  9366.        ),\n",
       "       ([-80.58502828,  34.9944114 ], '03040105', '030401050501',  9742.        ),\n",
       "       ([-80.54931396,  34.93644558], '03040105', '030401050504', 38941.        ),\n",
       "       ([-80.5392917 ,  35.04373974], '03040105', '030401050503', 22616.        ),\n",
       "       ([-80.43443942,  35.06173895], '03040105', '030401050506', 25016.        ),\n",
       "       ([-80.58722204,  35.15197763], '03040105', '030401050701', 27058.        ),\n",
       "       ([-80.43670538,  35.17502947], '03040105', '030401050704', 25726.        ),\n",
       "       ([-79.83624922,  35.58725189], '03040104', '030401040301', 29255.        ),\n",
       "       ([-80.40916859,  35.72263691], '03040103', '030401030105', 23405.        ),\n",
       "       ([-80.56680719,  35.73764952], '03040102', '030401020504', 17173.        ),\n",
       "       ([-80.12911838,  35.65225757], '03040103', '030401030601', 21942.        ),\n",
       "       ([-80.6375429 ,  35.76054639], '03040102', '030401020304',  7699.        ),\n",
       "       ([-80.23522207,  35.6971324 ], '03040103', '030401030207', 16009.        ),\n",
       "       ([-80.82035048,  35.788711  ], '03040102', '030401020402', 19311.        ),\n",
       "       ([-80.65729901,  35.78628923], '03040102', '030401020403', 20836.        ),\n",
       "       ([-80.94235624,  35.83198224], '03040102', '030401020401', 16998.        ),\n",
       "       ([-81.02938584,  35.83514494], '03040102', '030401020301', 14560.        ),\n",
       "       ([-80.00705183,  35.70505316], '03040103', '030401030406', 25516.        ),\n",
       "       ([-80.56279581,  35.80567643], '03040102', '030401020603', 14636.        ),\n",
       "       ([-80.16410579,  35.70675613], '03040103', '030401030304', 31161.        ),\n",
       "       ([-80.81122746,  35.8426778 ], '03040102', '030401020108', 18661.        ),\n",
       "       ([-80.3567773 ,  35.77496902], '03040103', '030401030103', 18061.        ),\n",
       "       ([-80.47694997,  35.81033833], '03040101', '030401011504', 17485.        ),\n",
       "       ([-81.00924892,  35.88768771], '03040102', '030401020103', 16059.        ),\n",
       "       ([-80.83075402,  35.88383697], '03040102', '030401020109', 19243.        ),\n",
       "       ([-80.6890399 ,  35.85002685], '03040102', '030401020601', 18014.        ),\n",
       "       ([-79.86417956,  35.73172833], '03040103', '030401030403', 24302.        ),\n",
       "       ([-80.21336519,  35.79472106], '03040103', '030401030206', 19941.        ),\n",
       "       ([-80.06505615,  35.78949948], '03040103', '030401030401', 27778.        ),\n",
       "       ([-80.28873336,  35.79836685], '03040103', '030401030104', 31556.        ),\n",
       "       ([-80.63958764,  35.8939255 ], '03040102', '030401020206', 12864.        ),\n",
       "       ([-80.12064388,  35.84853884], '03040103', '030401030204', 19104.        ),\n",
       "       ([-80.99081018,  35.94296939], '03040102', '030401020102', 19136.        ),\n",
       "       ([-80.90637973,  35.9508655 ], '03040102', '030401020105', 22624.        ),\n",
       "       ([-81.4160104 ,  36.00768938], '03040101', '030401010103', 17791.        ),\n",
       "       ([-79.91816381,  35.78374394], '03040103', '030401030404', 31270.        ),\n",
       "       ([-80.76692579,  35.93048012], '03040102', '030401020107', 12494.        ),\n",
       "       ([-81.10255859,  35.97138775], '03040102', '030401020101', 34212.        ),\n",
       "       ([-80.61059077,  35.91467045], '03040102', '030401020602', 18912.        ),\n",
       "       ([-80.30238315,  35.91867185], '03040101', '030401011502', 14080.        ),\n",
       "       ([-79.991794  ,  35.84655857], '03040103', '030401030402', 26444.        ),\n",
       "       ([-80.86659905,  35.98234427], '03040102', '030401020106', 22795.        ),\n",
       "       ([-80.22790578,  35.88793569], '03040103', '030401030205', 11816.        ),\n",
       "       ([-81.34968663,  36.04088043], '03040101', '030401010201', 13201.        ),\n",
       "       ([-81.04415803,  36.03383652], '03040102', '030401020104', 19700.        ),\n",
       "       ([-81.28649066,  36.05881249], '03040101', '030401010203', 16515.        ),\n",
       "       ([-80.30326569,  35.96656879], '03040101', '030401011308', 18340.        ),\n",
       "       ([-80.57699445,  35.98070072], '03040101', '030401011403', 19441.        ),\n",
       "       ([-80.72958276,  35.97910997], '03040102', '030401020205', 25311.        ),\n",
       "       ([-80.52629098,  35.99979103], '03040101', '030401011402', 14904.        ),\n",
       "       ([-80.66475454,  36.03462951], '03040101', '030401011401', 19271.        ),\n",
       "       ([-80.86597816,  36.04604927], '03040102', '030401020204', 21902.        ),\n",
       "       ([-81.20017258,  36.07223444], '03040101', '030401010301', 15858.        ),\n",
       "       ([-80.1774235 ,  35.9690315 ], '03040103', '030401030201', 15828.        ),\n",
       "       ([-81.31055159,  36.11765799], '03040101', '030401010206', 21239.        ),\n",
       "       ([-81.00598151,  36.09231107], '03040102', '030401020201', 36517.        ),\n",
       "       ([-80.08519408,  35.93084507], '03040103', '030401030203', 31294.        ),\n",
       "       ([-80.79764737,  36.07783417], '03040102', '030401020203', 17410.        ),\n",
       "       ([-80.41856015,  35.99721269], '03040101', '030401011501', 27475.        ),\n",
       "       ([-81.14174959,  36.12188055], '03040101', '030401010307', 16832.        ),\n",
       "       ([-81.22378582,  36.15552455], '03040101', '030401010302', 11039.        ),\n",
       "       ([-80.65440608,  36.09781974], '03040101', '030401011103', 30077.        ),\n",
       "       ([-81.0624074 ,  36.15120752], '03040101', '030401010401', 11537.        ),\n",
       "       ([-80.20783058,  36.03287711], '03040101', '030401011307', 28475.        ),\n",
       "       ([-80.88265306,  36.13798329], '03040102', '030401020202', 17536.        ),\n",
       "       ([-80.48433174,  36.07637147], '03040101', '030401011203', 33925.        ),\n",
       "       ([-81.00669446,  36.17592932], '03040101', '030401010407',  9226.        ),\n",
       "       ([-80.37153614,  36.10070842], '03040101', '030401011303', 12112.        ),\n",
       "       ([-80.2739401 ,  36.06534724], '03040101', '030401011305', 17980.        ),\n",
       "       ([-80.32384168,  36.07380576], '03040101', '030401011306', 16578.        ),\n",
       "       ([-80.11171168,  36.00057925], '03040103', '030401030202', 28859.        ),\n",
       "       ([-80.77907815,  36.15999191], '03040101', '030401011101', 21137.        ),\n",
       "       ([-80.2561616 ,  35.49968441], '03040103', '030401030603', 19787.        ),\n",
       "       ([-80.57057656,  35.47060008], '03040105', '030401050202', 32189.        ),\n",
       "       ([-79.80654769,  35.43549257], '03040104', '030401040304', 20548.        ),\n",
       "       ([-80.21096377,  35.54313426], '03040103', '030401030604', 24371.        ),\n",
       "       ([-80.00318221,  35.52476394], '03040103', '030401030504', 28957.        ),\n",
       "       ([-79.86674402,  35.49088109], '03040104', '030401040302', 23318.        ),\n",
       "       ([-80.38354576,  35.56168111], '03040103', '030401030303', 34418.        ),\n",
       "       ([-80.63916919,  35.63832301], '03040102', '030401020503', 16767.        ),\n",
       "       ([-79.98839444,  35.59734639], '03040103', '030401030502', 21057.        ),\n",
       "       ([-80.57469257,  35.62516142], '03040103', '030401030101', 30648.        ),\n",
       "       ([-80.47232332,  35.62343873], '03040103', '030401030301', 28112.        ),\n",
       "       ([-80.38463149,  35.63024998], '03040103', '030401030302', 21241.        ),\n",
       "       ([-80.27941574,  35.61599669], '03040103', '030401030305', 17306.        ),\n",
       "       ([-79.99261229,  35.63532489], '03040103', '030401030501', 20037.        ),\n",
       "       ([-80.47352322,  35.69747652], '03040103', '030401030102', 12725.        ),\n",
       "       ([-79.89539199,  35.66080385], '03040103', '030401030405',  7211.        ),\n",
       "       ([-80.64103709,  36.59029622], '03040101', '030401010803', 16075.0241935 ),\n",
       "       ([-80.69608726,  36.58903953], '03040101', '030401010805', 13695.0530108 ),\n",
       "       ([-80.52982407,  36.59679415], '03040101', '030401010801', 22688.4055585 ),\n",
       "       ([-80.23361815,  35.27547256], '03040105', '030401050406', 19487.        ),\n",
       "       ([-80.1079482 ,  35.27302653], '03040104', '030401040203', 34639.        ),\n",
       "       ([-80.13040539,  35.58122926], '03040103', '030401030602', 13254.        ),\n",
       "       ([-80.18587823,  34.97607177], '03040104', '030401040103', 28697.        ),\n",
       "       ([-80.37955113,  35.0297139 ], '03040105', '030401050505', 17290.        ),\n",
       "       ([-80.00093902,  35.02795629], '03040104', '030401040501',  9888.        ),\n",
       "       ([-79.90805167,  35.02440538], '03040104', '030401040506', 25058.        ),\n",
       "       ([-80.25882285,  35.03734928], '03040105', '030401050604', 34026.        ),\n",
       "       ([-80.23673177,  35.09949065], '03040105', '030401050706', 12473.        ),\n",
       "       ([-80.30580447,  35.11203351], '03040105', '030401050507', 26878.        ),\n",
       "       ([-79.98013429,  35.10930485], '03040104', '030401040502', 14296.        ),\n",
       "       ([-80.07634909,  35.13749332], '03040104', '030401040205', 21453.        ),\n",
       "       ([-79.76519679,  35.10981722], '03040104', '030401040504', 15423.        ),\n",
       "       ([-79.85684851,  35.14891004], '03040104', '030401040403', 10024.        ),\n",
       "       ([-80.11944172,  35.18256493], '03040105', '030401050708', 12719.        ),\n",
       "       ([-80.384871  ,  35.23593195], '03040105', '030401050703', 14049.        ),\n",
       "       ([-79.96260521,  35.1572605 ], '03040104', '030401040404', 20080.        ),\n",
       "       ([-80.19737152,  35.19393825], '03040105', '030401050707', 25830.        ),\n",
       "       ([-81.47097624,  36.05236182], '03040101', '030401010105', 14322.        ),\n",
       "       ([-81.58054605,  36.04416386], '03040101', '030401010102', 27096.        ),\n",
       "       ([-81.55526219,  36.0955997 ], '03040101', '030401010101', 21149.        ),\n",
       "       ([-80.72242443,  35.63184705], '03040102', '030401020501', 24702.        ),\n",
       "       ([-80.64452214,  35.26082735], '03040105', '030401050302', 27567.        ),\n",
       "       ([-80.6830874 ,  35.35803329], '03040105', '030401050106', 11685.        ),\n",
       "       ([-80.79187389,  35.49556913], '03040105', '030401050102', 30931.        ),\n",
       "       ([-80.74576234,  35.68340477], '03040102', '030401020502', 31931.        ),\n",
       "       ([-80.92566121,  35.76073657], '03040102', '030401020302', 15816.        ),\n",
       "       ([-80.67549035,  35.29888374], '03040105', '030401050301',  9908.        ),\n",
       "       ([-80.75847017,  35.32571743], '03040105', '030401050103', 26602.        ),\n",
       "       ([-80.79345922,  35.41049026], '03040105', '030401050101', 18018.        ),\n",
       "       ([-80.72410487,  35.5205101 ], '03040105', '030401050104', 30493.        ),\n",
       "       ([-80.79881261,  35.72827196], '03040102', '030401020303', 26341.        ),\n",
       "       ([-80.27071779,  36.16806987], '03040101', '030401011301', 20905.        ),\n",
       "       ([-80.43288052,  36.19415226], '03040101', '030401011007', 30343.        ),\n",
       "       ([-80.97567275,  36.26948633], '03040101', '030401010601', 11467.        ),\n",
       "       ([-81.39817588,  36.19993659], '03040101', '030401010204', 23252.        ),\n",
       "       ([-81.08338553,  36.20850865], '03040101', '030401010402',  7600.        ),\n",
       "       ([-81.34199324,  36.22229322], '03040101', '030401010205', 22417.        ),\n",
       "       ([-81.21454192,  36.21663756], '03040101', '030401010305', 22238.        ),\n",
       "       ([-80.95904597,  36.19566851], '03040101', '030401010602', 11216.        ),\n",
       "       ([-80.58762385,  36.1687909 ], '03040101', '030401011202', 17564.        ),\n",
       "       ([-80.89462469,  36.20297201], '03040101', '030401010605', 14031.        ),\n",
       "       ([-80.67718782,  36.17513468], '03040101', '030401011102', 28548.        ),\n",
       "       ([-81.03165304,  36.24141735], '03040101', '030401010406', 10413.        ),\n",
       "       ([-80.52755835,  36.18009889], '03040101', '030401011201', 16915.        ),\n",
       "       ([-80.83127685,  36.23011508], '03040101', '030401010606',  9831.        ),\n",
       "       ([-80.78382948,  36.24627946], '03040101', '030401010607',  8983.        ),\n",
       "       ([-80.10740382,  34.98797612], '03040104', '030401040104', 16201.        ),\n",
       "       ([-80.090935  ,  35.05760708], '03040104', '030401040105', 30032.        ),\n",
       "       ([-79.95584945,  35.04108812], '03040104', '030401040503',  9125.        ),\n",
       "       ([-80.32613775,  35.17885946], '03040105', '030401050705', 18535.        ),\n",
       "       ([-80.16381273,  36.11997155], '03040101', '030401011304', 26784.        ),\n",
       "       ([-80.91484417,  36.32163841], '03040101', '030401010604', 23247.        ),\n",
       "       ([-81.122089  ,  36.35140601], '03040101', '030401010404', 27922.        ),\n",
       "       ([-80.78073953,  36.34383741], '03040101', '030401010503', 11756.        ),\n",
       "       ([-80.89570503,  36.37409152], '03040101', '030401010502', 16103.        ),\n",
       "       ([-80.70862908,  36.33809574], '03040101', '030401010705', 24285.        ),\n",
       "       ([-81.04227249,  36.35813672], '03040101', '030401010405', 36264.        ),\n",
       "       ([-80.58731738,  36.38073793], '03040101', '030401010903', 11309.        ),\n",
       "       ([-80.41577159,  36.36714465], '03040101', '030401011003', 10990.        ),\n",
       "       ([-80.83702828,  36.36112005], '03040101', '030401010504', 22641.        ),\n",
       "       ([-80.78695685,  36.43157779], '03040101', '030401010702', 17316.        ),\n",
       "       ([-80.92802711,  36.45306523], '03040101', '030401010501', 18730.        ),\n",
       "       ([-80.67671314,  36.40925327], '03040101', '030401010704', 16920.        ),\n",
       "       ([-80.65261784,  36.47488555], '03040101', '030401010806', 10109.        ),\n",
       "       ([-80.47808784,  36.43133851], '03040101', '030401010902', 24602.        ),\n",
       "       ([-80.56342082,  36.4486384 ], '03040101', '030401010901', 25106.        ),\n",
       "       ([-80.57237542,  36.50975915], '03040101', '030401010807', 10563.        )],\n",
       "      dtype=[('SHAPE@XY', '<f8', (2,)), ('HUC_8', '<U8'), ('HUC_12', '<U12'), ('ACRES', '<f8')])"
      ]
     },
     "execution_count": 4,
     "metadata": {},
     "output_type": "execute_result"
    }
   ],
   "source": [
    "#List the fields we want to convert\n",
    "fieldList = [\"SHAPE@XY\",\"HUC_8\",\"HUC_12\",\"ACRES\"]\n",
    "arrHUCS = arcpy.da.FeatureClassToNumPyArray(huc12_fc,fieldList)"
   ]
  },
  {
   "cell_type": "code",
   "execution_count": null,
   "metadata": {},
   "outputs": [],
   "source": [
    "#Display the type of the returned object\n",
    "type(arrHUCS)"
   ]
  },
  {
   "cell_type": "markdown",
   "metadata": {},
   "source": [
    "* As a NumPy array, we can do different operations on the feature class. But first, let's inspect the array's properties. "
   ]
  },
  {
   "cell_type": "code",
   "execution_count": 5,
   "metadata": {},
   "outputs": [],
   "source": [
    "#Reveal documentation on the ndarray object\n",
    "arrHUCS?"
   ]
  },
  {
   "cell_type": "code",
   "execution_count": 8,
   "metadata": {},
   "outputs": [
    {
     "data": {
      "text/plain": [
       "210"
      ]
     },
     "execution_count": 8,
     "metadata": {},
     "output_type": "execute_result"
    }
   ],
   "source": [
    "#How many records does it contain\n",
    "#arrHUCS.size\n",
    "len(arrHUCS)"
   ]
  },
  {
   "cell_type": "code",
   "execution_count": 9,
   "metadata": {},
   "outputs": [
    {
     "name": "stdout",
     "output_type": "stream",
     "text": [
      "[('SHAPE@XY', '<f8', (2,)), ('HUC_8', '<U8'), ('HUC_12', '<U12'), ('ACRES', '<f8')]\n"
     ]
    }
   ],
   "source": [
    "#What are the data types stored in this array\n",
    "print (arrHUCS.dtype)"
   ]
  },
  {
   "cell_type": "code",
   "execution_count": 10,
   "metadata": {},
   "outputs": [
    {
     "name": "stdout",
     "output_type": "stream",
     "text": [
      "('SHAPE@XY', 'HUC_8', 'HUC_12', 'ACRES')\n"
     ]
    }
   ],
   "source": [
    "#Or, just what are the names of the \"columns\"\n",
    "print (arrHUCS.dtype.names)"
   ]
  },
  {
   "cell_type": "markdown",
   "metadata": {},
   "source": [
    "In looking at the data types, you notice that this NumPy array actually has multiple data types.\n",
    "\n",
    "\n",
    "The ndarray object is actually a specific type of NumPy array - a **structured array**. (See https://jakevdp.github.io/PythonDataScienceHandbook/02.09-structured-data-numpy.html) A *structured array* is really just a collection of individual ndarrays, all of the same length, with each individual ndarray referenced by a field name. In other words, it's structured much like an attribute table where each field/column is it's own ndarray. \n",
    "\n",
    "Our `arrHUCs` structured array has 4 embedded \"sub\" arrays with the names `SHAPE@XY`, `HUC_8`, `HUC_12`, and `ACRES`)"
   ]
  },
  {
   "cell_type": "markdown",
   "metadata": {},
   "source": [
    "Now, let's see what we can do with this..."
   ]
  },
  {
   "cell_type": "markdown",
   "metadata": {},
   "source": [
    "* Numpy arrays allow **slicing**, much like familiar Python lists, enabling us to quickly nab subsets of data. "
   ]
  },
  {
   "cell_type": "code",
   "execution_count": 11,
   "metadata": {},
   "outputs": [
    {
     "name": "stdout",
     "output_type": "stream",
     "text": [
      "([-79.93890576,  35.48508838], '03040103', '030401030503', 15414.)\n"
     ]
    }
   ],
   "source": [
    "#Show the first row of data\n",
    "print (arrHUCS[0])     "
   ]
  },
  {
   "cell_type": "code",
   "execution_count": 12,
   "metadata": {},
   "outputs": [
    {
     "name": "stdout",
     "output_type": "stream",
     "text": [
      "[([-79.93890576,  35.48508838], '03040103', '030401030503', 15414.)\n",
      " ([-80.10361823,  35.47440895], '03040103', '030401030605', 42390.)\n",
      " ([-80.39449973,  35.87133309], '03040101', '030401011503', 32998.)\n",
      " ([-80.50179609,  35.89937972], '03040101', '030401011404', 29297.)\n",
      " ([-80.35986875,  34.82920682], '03040104', '030401040101', 14822.)]\n"
     ]
    }
   ],
   "source": [
    "#Show all data from the first 5 rows of data\n",
    "print (arrHUCS[0:5])     "
   ]
  },
  {
   "cell_type": "code",
   "execution_count": 13,
   "metadata": {},
   "outputs": [
    {
     "name": "stdout",
     "output_type": "stream",
     "text": [
      "03040104\n"
     ]
    }
   ],
   "source": [
    "#Show the value of the 5th row in the `HUC_8' field\n",
    "print (arrHUCS[4]['HUC_8'])"
   ]
  },
  {
   "cell_type": "code",
   "execution_count": 14,
   "metadata": {},
   "outputs": [
    {
     "name": "stdout",
     "output_type": "stream",
     "text": [
      "['030401030503' '030401030605' '030401011503' '030401011404'\n",
      " '030401040101' '030401050602' '030401050603' '030401040102'\n",
      " '030401010802' '030401010804' '030401010703' '030401010701'\n",
      " '030401050307' '030401040505' '030401040402' '030401040401'\n",
      " '030401050305' '030401050405' '030401050403' '030401040204'\n",
      " '030401040202' '030401050304' '030401040306' '030401040305'\n",
      " '030401050105' '030401050401' '030401040201' '030401050201'\n",
      " '030401050404' '030401050402' '030401030505' '030401050203'\n",
      " '030401040303' '030401050303' '030401010603' '030401010303'\n",
      " '030401010304' '030401010306' '030401010403' '030401011302'\n",
      " '030401011001' '030401011002' '030401011005' '030401011006'\n",
      " '030401010904' '030401011004' '030401010104' '030401010202'\n",
      " '030401050702' '030401050306' '030401050601' '030401050502'\n",
      " '030401050501' '030401050504' '030401050503' '030401050506'\n",
      " '030401050701' '030401050704' '030401040301' '030401030105'\n",
      " '030401020504' '030401030601' '030401020304' '030401030207'\n",
      " '030401020402' '030401020403' '030401020401' '030401020301'\n",
      " '030401030406' '030401020603' '030401030304' '030401020108'\n",
      " '030401030103' '030401011504' '030401020103' '030401020109'\n",
      " '030401020601' '030401030403' '030401030206' '030401030401'\n",
      " '030401030104' '030401020206' '030401030204' '030401020102'\n",
      " '030401020105' '030401010103' '030401030404' '030401020107'\n",
      " '030401020101' '030401020602' '030401011502' '030401030402'\n",
      " '030401020106' '030401030205' '030401010201' '030401020104'\n",
      " '030401010203' '030401011308' '030401011403' '030401020205'\n",
      " '030401011402' '030401011401' '030401020204' '030401010301'\n",
      " '030401030201' '030401010206' '030401020201' '030401030203'\n",
      " '030401020203' '030401011501' '030401010307' '030401010302'\n",
      " '030401011103' '030401010401' '030401011307' '030401020202'\n",
      " '030401011203' '030401010407' '030401011303' '030401011305'\n",
      " '030401011306' '030401030202' '030401011101' '030401030603'\n",
      " '030401050202' '030401040304' '030401030604' '030401030504'\n",
      " '030401040302' '030401030303' '030401020503' '030401030502'\n",
      " '030401030101' '030401030301' '030401030302' '030401030305'\n",
      " '030401030501' '030401030102' '030401030405' '030401010803'\n",
      " '030401010805' '030401010801' '030401050406' '030401040203'\n",
      " '030401030602' '030401040103' '030401050505' '030401040501'\n",
      " '030401040506' '030401050604' '030401050706' '030401050507'\n",
      " '030401040502' '030401040205' '030401040504' '030401040403'\n",
      " '030401050708' '030401050703' '030401040404' '030401050707'\n",
      " '030401010105' '030401010102' '030401010101' '030401020501'\n",
      " '030401050302' '030401050106' '030401050102' '030401020502'\n",
      " '030401020302' '030401050301' '030401050103' '030401050101'\n",
      " '030401050104' '030401020303' '030401011301' '030401011007'\n",
      " '030401010601' '030401010204' '030401010402' '030401010205'\n",
      " '030401010305' '030401010602' '030401011202' '030401010605'\n",
      " '030401011102' '030401010406' '030401011201' '030401010606'\n",
      " '030401010607' '030401040104' '030401040105' '030401040503'\n",
      " '030401050705' '030401011304' '030401010604' '030401010404'\n",
      " '030401010503' '030401010502' '030401010705' '030401010405'\n",
      " '030401010903' '030401011003' '030401010504' '030401010702'\n",
      " '030401010501' '030401010704' '030401010806' '030401010902'\n",
      " '030401010901' '030401010807']\n"
     ]
    }
   ],
   "source": [
    "#List all the HUC12s in the dataset\n",
    "print (arrHUCS['HUC_12'])"
   ]
  },
  {
   "cell_type": "markdown",
   "metadata": {},
   "source": [
    "* We can also do rapid calculations with the data..."
   ]
  },
  {
   "cell_type": "code",
   "execution_count": 18,
   "metadata": {},
   "outputs": [
    {
     "data": {
      "text/plain": [
       "array(['03040101', '03040102', '03040103', '03040104', '03040105'],\n",
       "      dtype='<U8')"
      ]
     },
     "execution_count": 18,
     "metadata": {},
     "output_type": "execute_result"
    }
   ],
   "source": [
    "np.unique(arrHUCS['HUC_8'])"
   ]
  },
  {
   "cell_type": "code",
   "execution_count": 19,
   "metadata": {},
   "outputs": [
    {
     "name": "stdout",
     "output_type": "stream",
     "text": [
      "21509.97180909\n"
     ]
    }
   ],
   "source": [
    "#List the mean area of all HUCs\n",
    "print (arrHUCS[0:10]['ACRES'].mean())"
   ]
  },
  {
   "cell_type": "markdown",
   "metadata": {},
   "source": [
    "#### Subsetting data with NumPy\n",
    "We can also subset records in our array which we will do as a two step process. \n",
    "1. First we create a boolean **mask array**, that is an array of true and false values where a record is true if a condition is met. \n",
    "2. Then we **apply this mask** to our original array to isolate records where the mask is true"
   ]
  },
  {
   "cell_type": "code",
   "execution_count": 20,
   "metadata": {},
   "outputs": [
    {
     "data": {
      "text/plain": [
       "array([ True,  True, False, False, False, False, False, False, False,\n",
       "       False])"
      ]
     },
     "execution_count": 20,
     "metadata": {},
     "output_type": "execute_result"
    }
   ],
   "source": [
    "#First we make a boolean mask and show the first 10 records\n",
    "arrMask = (arrHUCS[\"HUC_8\"] == '03040103')\n",
    "arrMask[:10]"
   ]
  },
  {
   "cell_type": "code",
   "execution_count": 21,
   "metadata": {},
   "outputs": [],
   "source": [
    "#Now we apply the mask to isolate record where this is true\n",
    "arrSelectedHUC8 = arrHUCS[arrMask]"
   ]
  },
  {
   "cell_type": "code",
   "execution_count": 22,
   "metadata": {},
   "outputs": [
    {
     "name": "stdout",
     "output_type": "stream",
     "text": [
      "33\n"
     ]
    }
   ],
   "source": [
    "#The original array had 201 records, how many records does this have? \n",
    "print (arrSelectedHUC8.size)"
   ]
  },
  {
   "cell_type": "code",
   "execution_count": 26,
   "metadata": {},
   "outputs": [
    {
     "data": {
      "text/plain": [
       "([-80.13040539,  35.58122926], '03040103', '030401030602', 13254.)"
      ]
     },
     "execution_count": 26,
     "metadata": {},
     "output_type": "execute_result"
    }
   ],
   "source": [
    "#Print the 11th row of our selected records\n",
    "arrSelectedHUC8[32]"
   ]
  },
  {
   "cell_type": "code",
   "execution_count": 27,
   "metadata": {},
   "outputs": [
    {
     "data": {
      "text/plain": [
       "23075.121212121212"
      ]
     },
     "execution_count": 27,
     "metadata": {},
     "output_type": "execute_result"
    }
   ],
   "source": [
    "#Calculate the mean area of these HUCs\n",
    "arrSelectedHUC8['ACRES'].mean()"
   ]
  },
  {
   "cell_type": "code",
   "execution_count": 28,
   "metadata": {},
   "outputs": [],
   "source": [
    "#Plot a historam of HUC_12 areas\n",
    "%matplotlib inline\n",
    "import matplotlib.pyplot as plt\n",
    "#import seaborn; seaborn.set()  # set plot style"
   ]
  },
  {
   "cell_type": "code",
   "execution_count": 29,
   "metadata": {},
   "outputs": [
    {
     "data": {
      "image/png": "[encoded data removed]",
      "text/plain": [
       "<Figure size 432x288 with 1 Axes>"
      ]
     },
     "metadata": {
      "needs_background": "light"
     },
     "output_type": "display_data"
    }
   ],
   "source": [
    "plt.hist(arrHUCS['ACRES']);\n",
    "plt.title('Area Distribution of HUC_12s')\n",
    "plt.xlabel('Area (acres)')\n",
    "plt.ylabel('number');"
   ]
  },
  {
   "cell_type": "markdown",
   "metadata": {},
   "source": [
    "### Recap\n",
    "Converting our feature attribute table to a NumPy array opens the door to some rapid computations using NumPy's speedy capabilities - a vast improvment over using arcpy's cursor objects!"
   ]
  }
 ],
 "metadata": {
  "kernelspec": {
   "display_name": "Python 3",
   "language": "python",
   "name": "python3"
  },
  "language_info": {
   "codemirror_mode": {
    "name": "ipython",
    "version": 3
   },
   "file_extension": ".py",
   "mimetype": "text/x-python",
   "name": "python",
   "nbconvert_exporter": "python",
   "pygments_lexer": "ipython3",
   "version": "3.6.8"
  }
 },
 "nbformat": 4,
 "nbformat_minor": 2
}
